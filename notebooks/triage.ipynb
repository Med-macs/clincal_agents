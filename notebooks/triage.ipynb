{
 "cells": [
  {
   "cell_type": "code",
   "execution_count": 1,
   "metadata": {},
   "outputs": [],
   "source": [
    "from langchain_core.prompts import ChatPromptTemplate\n",
    "from langchain.chat_models import ChatOpenAI\n",
    "from langgraph.graph import StateGraph, END\n",
    "from typing import Dict, Any\n",
    "\n",
    "\n",
    "# Define prompt templates\n",
    "nurse_prompt = ChatPromptTemplate.from_template(\n",
    "    \"Role: ER Triage Nurse\\nInstructions: Determine ESI (1-5) with reasoning...\\nPatient Note: {note}\\nPrevious Doctor Input: {doctor_msg}\\nYour Response:\"\n",
    ")\n",
    "doctor_prompt = ChatPromptTemplate.from_template(\n",
    "    \"Role: ER Doctor\\nInstructions: List possible diagnoses and comment on priority...\\nPatient Note: {note}\\nNurse's Assessment: {nurse_msg}\\nYour Response:\"\n",
    ")"
   ]
  },
  {
   "cell_type": "code",
   "execution_count": 2,
   "metadata": {},
   "outputs": [],
   "source": [
    "import os\n",
    "from dotenv import load_dotenv\n",
    "\n",
    "load_dotenv()\n",
    "\n",
    "from langgraph.graph import StateGraph, START, END \n",
    "from langchain_google_genai import ChatGoogleGenerativeAI"
   ]
  },
  {
   "cell_type": "code",
   "execution_count": null,
   "metadata": {},
   "outputs": [],
   "source": [
    "# llm = ChatOpenAI(\n",
    "#     model=\"gpt-4o-mini\",\n",
    "#     temperature=0)"
   ]
  },
  {
   "cell_type": "code",
   "execution_count": 3,
   "metadata": {},
   "outputs": [],
   "source": [
    "llm = ChatGoogleGenerativeAI(model=\"gemini-2.0-flash\")\n"
   ]
  },
  {
   "cell_type": "code",
   "execution_count": 4,
   "metadata": {},
   "outputs": [
    {
     "name": "stdout",
     "output_type": "stream",
     "text": [
      "Final Assessment: **ESI: 2**\n",
      "\n",
      "**Reasoning:**\n",
      "\n",
      "This patient presents with a high-risk chief complaint (chest pain radiating to the left arm) suggestive of a potentially life-threatening condition like Acute Coronary Syndrome (ACS).\n",
      "\n",
      "*   **High-Risk Situation:** Chest pain, especially with radiation, requires immediate assessment to rule out cardiac ischemia or other critical conditions.\n",
      "*   **Likely Need for Immediate Intervention:** This patient will likely require interventions such as ECG, oxygen, IV access, cardiac monitoring, and potentially medications (aspirin, nitroglycerin, morphine).\n",
      "*   **Not ESI 1:** While the presentation is concerning, the patient's current stability is unknown. If the patient was hypotensive, unresponsive, or in severe respiratory distress, ESI 1 would be more appropriate.\n",
      "*   **Not ESI 3, 4, or 5:** The high-risk nature of the chief complaint and the likely need for multiple resources and interventions within a defined period (minutes to hours) rules out the lower ESI levels.\n",
      "\n",
      "Final Analysis: Okay, here's my differential diagnosis and prioritization based on a 45-year-old male presenting with chest pain radiating to the left arm, ESI 2:\n",
      "\n",
      "**Priority: HIGH - Immediate evaluation and intervention are required. This patient needs to be seen NOW.**\n",
      "\n",
      "**Possible Diagnoses (in order of highest to lowest immediate concern):**\n",
      "\n",
      "1.  **Acute Coronary Syndrome (ACS) - Priority #1:**\n",
      "    *   **Specifically:**\n",
      "        *   **ST-Elevation Myocardial Infarction (STEMI):** Complete blockage of a coronary artery.\n",
      "        *   **Non-ST-Elevation Myocardial Infarction (NSTEMI):** Partial blockage of a coronary artery.\n",
      "        *   **Unstable Angina:** Chest pain at rest or with minimal exertion, indicating a high risk of MI.\n",
      "    *   **Why Highest Priority:** Time is muscle. Rapid diagnosis and intervention (e.g., PCI, thrombolytics) are crucial to minimize myocardial damage and improve outcomes in STEMI and NSTEMI. Unstable angina signifies imminent risk.\n",
      "\n",
      "2.  **Aortic Dissection - Priority #2:**\n",
      "    *   **Reasoning:** Although less likely than ACS in a 45-year-old, this is a catastrophic diagnosis. Radiating chest pain can be a symptom.\n",
      "    *   **Why High Priority:** Aortic dissection requires immediate surgical intervention to prevent death.\n",
      "\n",
      "3.  **Pulmonary Embolism (PE) - Priority #3:**\n",
      "    *   **Reasoning:** Can present with chest pain and, if large, can cause significant hemodynamic instability.\n",
      "    *   **Why High Priority:** Requires rapid diagnosis (e.g., CT angiography) and anticoagulation.\n",
      "\n",
      "4.  **Esophageal Rupture (Boerhaave Syndrome) - Priority #4:**\n",
      "    *   **Reasoning:** While less common, chest pain and potential for mediastinitis make this a serious consideration.  Especially if there's a history of forceful vomiting.\n",
      "    *   **Why Medium Priority:** Requires prompt diagnosis and likely surgical intervention.\n",
      "\n",
      "5.  **Pericarditis - Priority #5:**\n",
      "    *   **Reasoning:** Inflammation of the pericardium. Less immediately life-threatening than the above, but still requires diagnosis and treatment. Pain is often sharp and pleuritic, but can sometimes mimic cardiac pain.\n",
      "    *   **Why Medium Priority:** Needs evaluation to rule out other causes and manage pain. Risk of tamponade, though less common, must be considered.\n",
      "\n",
      "6.  **Stable Angina - Priority #6:**\n",
      "    *   **Reasoning:** While less acute than ACS, it still requires investigation and management.\n",
      "    *   **Why Medium Priority:** Needs evaluation and potential modification of risk factors.\n",
      "\n",
      "7.  **Musculoskeletal Chest Pain - Priority #7:**\n",
      "    *   **Reasoning:** A common cause of chest pain, but a diagnosis of exclusion. Must rule out cardiac etiologies first.\n",
      "    *   **Why Low Priority (Once Cardiac Etiology Ruled Out):** Can be managed with analgesics and follow-up.\n",
      "\n",
      "8.  **Anxiety/Panic Attack - Priority #8:**\n",
      "    *   **Reasoning:** Can mimic cardiac symptoms. Again, a diagnosis of exclusion.\n",
      "    *   **Why Low Priority (Once Cardiac Etiology Ruled Out):** Requires psychological support and management.\n",
      "\n",
      "**Immediate Actions (Regardless of Specific Diagnosis):**\n",
      "\n",
      "*   **Oxygen:** Apply supplemental oxygen, especially if oxygen saturation is less than 94%.\n",
      "*   **Cardiac Monitor:** Continuous ECG monitoring to identify arrhythmias.\n",
      "*   **IV Access:** Establish at least one, preferably two, IV lines.\n",
      "*   **12-Lead ECG:** Obtain immediately and interpret rapidly. Look for ST-segment elevation, depression, or T-wave inversions.\n",
      "*   **Aspirin:** Administer aspirin 325 mg PO (unless contraindicated).\n",
      "*   **Pain Management:** Address the patient's pain.  Consider morphine or fentanyl (after ECG obtained).\n",
      "*   **Nitroglycerin:** Consider nitroglycerin sublingually or IV (after checking blood pressure and for contraindications such as phosphodiesterase inhibitors).\n",
      "*   **Labs:** Order cardiac enzymes (troponin), CBC, CMP, coagulation studies, and potentially D-dimer if PE is suspected.\n",
      "*   **Chest X-Ray:** To evaluate for pulmonary causes of chest pain, aortic abnormalities, or other structural problems.\n",
      "*   **Focused History:** Obtain a more detailed history, including:\n",
      "    *   Onset, location, duration, character, and radiation of pain\n",
      "    *   Associated symptoms (e.g., diaphoresis, nausea, vomiting, shortness of breath)\n",
      "    *   Past medical history, medications, allergies\n",
      "    *   Risk factors for coronary artery disease (e.g., smoking, hypertension, hyperlipidemia, diabetes, family history)\n",
      "\n",
      "This is a critical situation. Rapid assessment and intervention are paramount.\n"
     ]
    }
   ],
   "source": [
    "def nurse_step(state: Dict[str, Any]) -> Dict[str, Any]:\n",
    "    \"\"\"Process nurse's assessment with state preservation\"\"\"\n",
    "    inputs = {\n",
    "        \"note\": state[\"note\"],\n",
    "        \"doctor_msg\": state.get(\"doctor_msg\", \"\")\n",
    "    }\n",
    "    response = (nurse_prompt | llm).invoke(inputs)\n",
    "    return {**state, \"nurse_msg\": response.content}  # Preserve existing state\n",
    "\n",
    "def doctor_step(state: Dict[str, Any]) -> Dict[str, Any]:\n",
    "    \"\"\"Process doctor's analysis with state preservation\"\"\"\n",
    "    inputs = {\n",
    "        \"note\": state[\"note\"],\n",
    "        \"nurse_msg\": state[\"nurse_msg\"]\n",
    "    }\n",
    "    response = (doctor_prompt | llm).invoke(inputs)\n",
    "    return {\n",
    "        **state,  # Preserve existing state\n",
    "        \"doctor_msg\": response.content,\n",
    "        \"iteration\": state.get(\"iteration\", 0) + 1\n",
    "    }\n",
    "\n",
    "# Build workflow\n",
    "workflow = StateGraph(state_schema=dict)\n",
    "workflow.add_node(\"Nurse\", nurse_step)\n",
    "workflow.add_node(\"Doctor\", doctor_step)\n",
    "workflow.set_entry_point(\"Nurse\")\n",
    "workflow.add_edge(\"Nurse\", \"Doctor\")\n",
    "workflow.add_conditional_edges(\n",
    "    \"Doctor\",\n",
    "    lambda state: \"Nurse\" if state.get(\"iteration\", 0) < 2 else END\n",
    ")\n",
    "\n",
    "app = workflow.compile()\n",
    "\n",
    "# Test run\n",
    "patient_note = \"45yo male presenting with chest pain radiating to left arm...\"\n",
    "result = app.invoke({\"note\": patient_note})\n",
    "\n",
    "print(\"Final Assessment:\", result[\"nurse_msg\"])\n",
    "print(\"\\nFinal Analysis:\", result[\"doctor_msg\"])"
   ]
  },
  {
   "cell_type": "code",
   "execution_count": 5,
   "metadata": {},
   "outputs": [],
   "source": [
    "# Add validation checks\n",
    "assert \"note\" in result, \"Patient note missing in final state\"\n",
    "assert result[\"iteration\"] == 2, f\"Unexpected iterations: {result['iteration']}\"\n",
    "assert \"chest pain\" in result[\"nurse_msg\"], \"Key symptom missing in nurse analysis\"\n",
    "assert \"Acute Coronary Syndrome\" in result[\"doctor_msg\"], \"Key diagnosis missing\""
   ]
  },
  {
   "cell_type": "code",
   "execution_count": 6,
   "metadata": {},
   "outputs": [],
   "source": [
    "critical_note = \"30yo female unresponsive with BP 70/40...\"\n",
    "critical_result = app.invoke({\"note\": critical_note})"
   ]
  },
  {
   "cell_type": "code",
   "execution_count": 27,
   "metadata": {},
   "outputs": [
    {
     "data": {
      "text/plain": [
       "'Based on the provided information, the patient is a 30-year-old female who is unresponsive and has a blood pressure of 70/40 mmHg. This presentation is concerning for a life-threatening condition, and immediate intervention is required.\\n\\n**Emergency Severity Index (ESI) Level: 1**\\n\\n**Reasoning:**\\n- **Unresponsiveness**: The patient is unresponsive, indicating a potential compromise in the airway, breathing, or circulation. This is a critical sign that necessitates immediate medical attention.\\n- **Hypotension (BP 70/40)**: The extremely low blood pressure suggests a state of shock, which can be due to several life-threatening conditions such as septic shock, hypovolemic shock, or cardiogenic shock. Each of these conditions requires urgent intervention to prevent further deterioration and potential death.\\n- **Need for Immediate Intervention**: The patient requires rapid assessment and treatment, including airway management, fluid resuscitation, and possibly medications (e.g., antibiotics for septic shock, epinephrine for anaphylaxis, etc.). \\n\\nGiven these factors, the patient falls into the highest category of urgency (ESI Level 1), as she is in a critical state that requires immediate life-saving interventions.'"
      ]
     },
     "execution_count": 27,
     "metadata": {},
     "output_type": "execute_result"
    }
   ],
   "source": [
    "critical_result[\"nurse_msg\"]"
   ]
  },
  {
   "cell_type": "code",
   "execution_count": null,
   "metadata": {},
   "outputs": [],
   "source": []
  }
 ],
 "metadata": {
  "kernelspec": {
   "display_name": "llm_env",
   "language": "python",
   "name": "python3"
  },
  "language_info": {
   "codemirror_mode": {
    "name": "ipython",
    "version": 3
   },
   "file_extension": ".py",
   "mimetype": "text/x-python",
   "name": "python",
   "nbconvert_exporter": "python",
   "pygments_lexer": "ipython3",
   "version": "3.13.2"
  }
 },
 "nbformat": 4,
 "nbformat_minor": 2
}
