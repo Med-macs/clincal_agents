{
 "cells": [
  {
   "cell_type": "code",
   "execution_count": null,
   "metadata": {},
   "outputs": [],
   "source": [
    "from langchain_core.prompts import ChatPromptTemplate\n",
    "from langchain.chat_models import ChatOpenAI\n",
    "from langgraph.graph import StateGraph, END\n",
    "from typing import Dict, Any\n",
    "\n",
    "\n",
    "# Define prompt templates\n",
    "nurse_prompt = ChatPromptTemplate.from_template(\n",
    "    \"Role: ER Triage Nurse\\nInstructions: Determine ESI (1-5) with reasoning...\\nPatient Note: {note}\\nPrevious Doctor Input: {doctor_msg}\\nYour Response:\"\n",
    ")\n",
    "doctor_prompt = ChatPromptTemplate.from_template(\n",
    "    \"Role: ER Doctor\\nInstructions: List possible diagnoses and comment on priority...\\nPatient Note: {note}\\nNurse's Assessment: {nurse_msg}\\nYour Response:\"\n",
    ")\n",
    "\n"
   ]
  },
  {
   "cell_type": "code",
   "execution_count": 19,
   "metadata": {},
   "outputs": [],
   "source": [
    "import os\n",
    "from dotenv import load_dotenv\n",
    "\n",
    "load_dotenv()\n",
    "\n",
    "if 'OPENAI_API_KEY' not in os.environ:\n",
    "    raise ValueError(\"OPENAI_API_KEY is not set in the environment variables.\")"
   ]
  },
  {
   "cell_type": "code",
   "execution_count": null,
   "metadata": {},
   "outputs": [],
   "source": []
  },
  {
   "cell_type": "code",
   "execution_count": 20,
   "metadata": {},
   "outputs": [],
   "source": [
    "llm = ChatOpenAI(\n",
    "    model=\"gpt-4o-mini\",\n",
    "    temperature=0)"
   ]
  },
  {
   "cell_type": "code",
   "execution_count": 22,
   "metadata": {},
   "outputs": [
    {
     "name": "stdout",
     "output_type": "stream",
     "text": [
      "Final Assessment: Based on the provided patient note and the previous doctor's input, I would assign an Emergency Severity Index (ESI) level of **2** to this patient.\n",
      "\n",
      "**Reasoning:**\n",
      "\n",
      "1. **High Risk of Deterioration:** The patient is a 45-year-old male presenting with chest pain radiating to the left arm, which is a classic symptom of myocardial infarction (MI) or unstable angina. These conditions are life-threatening and require immediate evaluation and intervention.\n",
      "\n",
      "2. **Need for Urgent Evaluation:** The symptoms suggest a high likelihood of acute coronary syndrome, necessitating urgent diagnostic tests such as an ECG and cardiac biomarkers. The potential for rapid deterioration into a more critical state (e.g., full-blown MI) underscores the need for prompt assessment.\n",
      "\n",
      "3. **Immediate Interventions Required:** The patient will likely need continuous monitoring, oxygen administration, IV access, and possibly medications like nitroglycerin or aspirin while awaiting further evaluation. This aligns with the ESI level 2 criteria, which indicates that the patient requires urgent care but is not immediately life-threatening.\n",
      "\n",
      "4. **Exclusion of Other Conditions:** While other serious conditions (like aortic dissection or pulmonary embolism) must be considered, the primary concern remains the high probability of a cardiac event based on the symptoms presented.\n",
      "\n",
      "In summary, the combination of concerning symptoms, the potential for rapid deterioration, and the need for urgent evaluation and treatment supports an ESI level of **2** for this patient.\n",
      "\n",
      "Final Analysis: Based on the provided patient note and the nurse's assessment, the following possible diagnoses should be considered for the 45-year-old male presenting with chest pain radiating to the left arm:\n",
      "\n",
      "### Possible Diagnoses:\n",
      "\n",
      "1. **Acute Coronary Syndrome (ACS)**\n",
      "   - **Myocardial Infarction (MI)**: The classic presentation of chest pain radiating to the left arm is highly suggestive of an MI.\n",
      "   - **Unstable Angina**: This could also be a possibility if the pain is not associated with significant myocardial damage but indicates a high risk of progression to MI.\n",
      "\n",
      "2. **Aortic Dissection**\n",
      "   - This condition can present with severe chest pain that may radiate to the back or arms. It is a life-threatening emergency that requires immediate imaging and intervention.\n",
      "\n",
      "3. **Pulmonary Embolism (PE)**\n",
      "   - PE can present with chest pain and may radiate to the shoulder or arm, especially if there is associated pleuritic pain or shortness of breath.\n",
      "\n",
      "4. **Pneumothorax**\n",
      "   - Although less common, a pneumothorax can cause sudden chest pain and may radiate to the shoulder or arm, particularly if there is associated respiratory distress.\n",
      "\n",
      "5. **Gastroesophageal Reflux Disease (GERD)**\n",
      "   - While less likely given the acute presentation, GERD can cause chest pain that mimics cardiac pain. However, the radiation to the left arm is less typical.\n",
      "\n",
      "6. **Musculoskeletal Pain**\n",
      "   - Costochondritis or other musculoskeletal issues could cause chest pain, but the radiation to the left arm and the patient's age make this less likely.\n",
      "\n",
      "### Priority and Management:\n",
      "\n",
      "- **Priority Level**: The priority for this patient is high due to the potential for life-threatening conditions, particularly acute coronary syndrome. The ESI level of **2** is appropriate, indicating that the patient requires urgent evaluation and intervention.\n",
      "\n",
      "- **Immediate Actions**:\n",
      "  - **ECG**: Obtain an ECG immediately to assess for ST elevation or other ischemic changes.\n",
      "  - **Cardiac Biomarkers**: Draw blood for troponins and other cardiac markers to evaluate for myocardial injury.\n",
      "  - **Continuous Monitoring**: Initiate continuous cardiac monitoring to detect any arrhythmias or changes in the patient's condition.\n",
      "  - **IV Access**: Establish IV access for potential medication administration (e.g., nitroglycerin, aspirin).\n",
      "  - **Oxygen Therapy**: Administer oxygen if the patient is hypoxic or in respiratory distress.\n",
      "\n",
      "- **Further Evaluation**: Depending on the initial findings, further imaging (e.g., chest X-ray, CT angiography) may be warranted to rule out aortic dissection or pulmonary embolism.\n",
      "\n",
      "In summary, the combination of the patient's symptoms and the potential for rapid deterioration necessitates immediate and thorough evaluation to rule out life-threatening conditions, with a strong focus on acute coronary syndrome as the primary concern.\n"
     ]
    }
   ],
   "source": [
    "def nurse_step(state: Dict[str, Any]) -> Dict[str, Any]:\n",
    "    \"\"\"Process nurse's assessment with state preservation\"\"\"\n",
    "    inputs = {\n",
    "        \"note\": state[\"note\"],\n",
    "        \"doctor_msg\": state.get(\"doctor_msg\", \"\")\n",
    "    }\n",
    "    response = (nurse_prompt | llm).invoke(inputs)\n",
    "    return {**state, \"nurse_msg\": response.content}  # Preserve existing state\n",
    "\n",
    "def doctor_step(state: Dict[str, Any]) -> Dict[str, Any]:\n",
    "    \"\"\"Process doctor's analysis with state preservation\"\"\"\n",
    "    inputs = {\n",
    "        \"note\": state[\"note\"],\n",
    "        \"nurse_msg\": state[\"nurse_msg\"]\n",
    "    }\n",
    "    response = (doctor_prompt | llm).invoke(inputs)\n",
    "    return {\n",
    "        **state,  # Preserve existing state\n",
    "        \"doctor_msg\": response.content,\n",
    "        \"iteration\": state.get(\"iteration\", 0) + 1\n",
    "    }\n",
    "\n",
    "# Build workflow\n",
    "workflow = StateGraph(state_schema=dict)\n",
    "workflow.add_node(\"Nurse\", nurse_step)\n",
    "workflow.add_node(\"Doctor\", doctor_step)\n",
    "workflow.set_entry_point(\"Nurse\")\n",
    "workflow.add_edge(\"Nurse\", \"Doctor\")\n",
    "workflow.add_conditional_edges(\n",
    "    \"Doctor\",\n",
    "    lambda state: \"Nurse\" if state.get(\"iteration\", 0) < 2 else END\n",
    ")\n",
    "\n",
    "app = workflow.compile()\n",
    "\n",
    "# Test run\n",
    "patient_note = \"45yo male presenting with chest pain radiating to left arm...\"\n",
    "result = app.invoke({\"note\": patient_note})\n",
    "\n",
    "print(\"Final Assessment:\", result[\"nurse_msg\"])\n",
    "print(\"\\nFinal Analysis:\", result[\"doctor_msg\"])"
   ]
  },
  {
   "cell_type": "code",
   "execution_count": 23,
   "metadata": {},
   "outputs": [],
   "source": [
    "# Add validation checks\n",
    "assert \"note\" in result, \"Patient note missing in final state\"\n",
    "assert result[\"iteration\"] == 2, f\"Unexpected iterations: {result['iteration']}\"\n",
    "assert \"chest pain\" in result[\"nurse_msg\"], \"Key symptom missing in nurse analysis\"\n",
    "assert \"Acute Coronary Syndrome\" in result[\"doctor_msg\"], \"Key diagnosis missing\""
   ]
  },
  {
   "cell_type": "code",
   "execution_count": 26,
   "metadata": {},
   "outputs": [],
   "source": [
    "critical_note = \"30yo female unresponsive with BP 70/40...\"\n",
    "critical_result = app.invoke({\"note\": critical_note})"
   ]
  },
  {
   "cell_type": "code",
   "execution_count": 27,
   "metadata": {},
   "outputs": [
    {
     "data": {
      "text/plain": [
       "'Based on the provided information, the patient is a 30-year-old female who is unresponsive and has a blood pressure of 70/40 mmHg. This presentation is concerning for a life-threatening condition, and immediate intervention is required.\\n\\n**Emergency Severity Index (ESI) Level: 1**\\n\\n**Reasoning:**\\n- **Unresponsiveness**: The patient is unresponsive, indicating a potential compromise in the airway, breathing, or circulation. This is a critical sign that necessitates immediate medical attention.\\n- **Hypotension (BP 70/40)**: The extremely low blood pressure suggests a state of shock, which can be due to several life-threatening conditions such as septic shock, hypovolemic shock, or cardiogenic shock. Each of these conditions requires urgent intervention to prevent further deterioration and potential death.\\n- **Need for Immediate Intervention**: The patient requires rapid assessment and treatment, including airway management, fluid resuscitation, and possibly medications (e.g., antibiotics for septic shock, epinephrine for anaphylaxis, etc.). \\n\\nGiven these factors, the patient falls into the highest category of urgency (ESI Level 1), as she is in a critical state that requires immediate life-saving interventions.'"
      ]
     },
     "execution_count": 27,
     "metadata": {},
     "output_type": "execute_result"
    }
   ],
   "source": [
    "critical_result[\"nurse_msg\"]"
   ]
  },
  {
   "cell_type": "code",
   "execution_count": null,
   "metadata": {},
   "outputs": [],
   "source": []
  }
 ],
 "metadata": {
  "kernelspec": {
   "display_name": "llm_env",
   "language": "python",
   "name": "python3"
  },
  "language_info": {
   "codemirror_mode": {
    "name": "ipython",
    "version": 3
   },
   "file_extension": ".py",
   "mimetype": "text/x-python",
   "name": "python",
   "nbconvert_exporter": "python",
   "pygments_lexer": "ipython3",
   "version": "3.13.2"
  }
 },
 "nbformat": 4,
 "nbformat_minor": 2
}
